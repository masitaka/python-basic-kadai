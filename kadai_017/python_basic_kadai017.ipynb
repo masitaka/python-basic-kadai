{
  "nbformat": 4,
  "nbformat_minor": 0,
  "metadata": {
    "colab": {
      "provenance": []
    },
    "kernelspec": {
      "name": "python3",
      "display_name": "Python 3"
    },
    "language_info": {
      "name": "python"
    }
  },
  "cells": [
    {
      "cell_type": "code",
      "execution_count": 31,
      "metadata": {
        "colab": {
          "base_uri": "https://localhost:8080/"
        },
        "id": "xvEV5c8NjN2D",
        "outputId": "5186e1b2-3a7e-478a-f5a1-cbb85932b49d"
      },
      "outputs": [
        {
          "output_type": "stream",
          "name": "stdout",
          "text": [
            "優さんはお酒を買えますね。\n",
            "雅子さんはお酒を買えますね。\n",
            "真美子さんはまだお酒を買ってはいけません。\n",
            "真宵さんはまだお酒を買ってはいけません。\n",
            "魔裟斗さんはお酒を買えますね。\n"
          ]
        }
      ],
      "source": [
        "member = []\n",
        "\n",
        "class Human:\n",
        "  def __init__(self, name, age):\n",
        "    self.name = name\n",
        "    self.age = age\n",
        "    member.append(self)\n",
        "\n",
        "  def check_adult(self):\n",
        "    if self.age >= 20:\n",
        "      print(f\"{self.name}さんはお酒を買えますね。\")\n",
        "    else:\n",
        "      print(f\"{self.name}さんはまだお酒を買ってはいけません。\")\n",
        "\n",
        "masaru = Human(\"優\", 27)\n",
        "masako = Human(\"雅子\", 88)\n",
        "mamiko = Human(\"真美子\", 8)\n",
        "mayoi = Human(\"真宵\", 19)\n",
        "masato = Human(\"魔裟斗\", 20)\n",
        "\n",
        "for i in range(len(member)):\n",
        "  member[i].check_adult()\n",
        "  i += 1"
      ]
    }
  ]
}