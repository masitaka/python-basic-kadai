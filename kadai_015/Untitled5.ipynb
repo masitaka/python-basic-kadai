{
  "nbformat": 4,
  "nbformat_minor": 0,
  "metadata": {
    "colab": {
      "provenance": []
    },
    "kernelspec": {
      "name": "python3",
      "display_name": "Python 3"
    },
    "language_info": {
      "name": "python"
    }
  },
  "cells": [
    {
      "cell_type": "code",
      "execution_count": 25,
      "metadata": {
        "colab": {
          "base_uri": "https://localhost:8080/"
        },
        "id": "7q7ftbWmiNRR",
        "outputId": "e15ee37a-ddb5-456f-bfc5-22205179401c"
      },
      "outputs": [
        {
          "output_type": "stream",
          "name": "stdout",
          "text": [
            "ぴよぴよさん、こんにちは。\n",
            "年齢は半角の数字で入力してくださいね。\n",
            "27歳の松下さん、こんにちは。\n",
            "1.2歳のひまわりさん、こんにちは。\n",
            "詳細な情報をありがとう。\n"
          ]
        }
      ],
      "source": [
        "class Human:\n",
        "  def __init__(self, name, age):\n",
        "\n",
        "    self.name = name\n",
        "    self.age = age\n",
        "\n",
        "  def printinto(self):\n",
        "    if isinstance(self.age, float):\n",
        "      print(f\"{self.age}歳の{self.name}さん、こんにちは。\")\n",
        "      print(\"詳細な情報をありがとう。\")\n",
        "    elif type(self.age) != int:\n",
        "      print(f\"{self.name}さん、こんにちは。\")\n",
        "      print(\"年齢は半角の数字で入力してくださいね。\")\n",
        "    else:\n",
        "      print(f\"{self.age}歳の{self.name}さん、こんにちは。\")\n",
        "\n",
        "nickname = Human(\"ぴよぴよ\", \"秘密\")\n",
        "realname = Human(\"松下\", 27)\n",
        "baby = Human(\"ひまわり\", 1.2)\n",
        "\n",
        "nickname.printinto()\n",
        "realname.printinto()\n",
        "baby.printinto()"
      ]
    }
  ]
}