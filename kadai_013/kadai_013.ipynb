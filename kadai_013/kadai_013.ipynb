{
  "nbformat": 4,
  "nbformat_minor": 0,
  "metadata": {
    "colab": {
      "provenance": []
    },
    "kernelspec": {
      "name": "python3",
      "display_name": "Python 3"
    },
    "language_info": {
      "name": "python"
    }
  },
  "cells": [
    {
      "cell_type": "code",
      "execution_count": 14,
      "metadata": {
        "colab": {
          "base_uri": "https://localhost:8080/"
        },
        "id": "rbLngiGy874Z",
        "outputId": "cf41c55e-1ff5-4774-de60-0e1010791ed7"
      },
      "outputs": [
        {
          "output_type": "stream",
          "name": "stdout",
          "text": [
            "2366720.4\n",
            "104.5\n"
          ]
        }
      ],
      "source": [
        "def clac_tax(price, tax):\n",
        "  return price + (price * tax)\n",
        "\n",
        "'''\n",
        "clac_tax(1100, 0.08)\n",
        "'''\n",
        "\n",
        "print(clac_tax(2151564, 0.1))\n",
        "\n",
        "\n",
        "def clac_tax1(price, tax):\n",
        "  return price + (price * tax / 100)\n",
        "\n",
        "print(clac_tax1(95, 10))\n"
      ]
    }
  ]
}