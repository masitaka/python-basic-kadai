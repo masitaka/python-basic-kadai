{
  "nbformat": 4,
  "nbformat_minor": 0,
  "metadata": {
    "colab": {
      "provenance": []
    },
    "kernelspec": {
      "name": "python3",
      "display_name": "Python 3"
    },
    "language_info": {
      "name": "python"
    }
  },
  "cells": [
    {
      "cell_type": "code",
      "execution_count": null,
      "metadata": {
        "colab": {
          "base_uri": "https://localhost:8080/"
        },
        "id": "pWsNLCRPnykc",
        "outputId": "43d6db49-f11b-44d4-bd3c-e11b154add47"
      },
      "outputs": [
        {
          "output_type": "stream",
          "name": "stdout",
          "text": [
            "75.0㎠\n"
          ]
        }
      ],
      "source": [
        "topside = 10\n",
        "bottomside = 20\n",
        "high = 5\n",
        "\n",
        "area = (topside + bottomside) * high / 2\n",
        "\n",
        "print(f\"{area}㎠\")"
      ]
    }
  ]
}